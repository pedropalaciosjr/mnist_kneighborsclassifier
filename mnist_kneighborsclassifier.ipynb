{
  "nbformat": 4,
  "nbformat_minor": 0,
  "metadata": {
    "colab": {
      "provenance": [],
      "gpuType": "T4",
      "authorship_tag": "ABX9TyPObZ96ujoqjw5GWUpTYYeS",
      "include_colab_link": true
    },
    "kernelspec": {
      "name": "python3",
      "display_name": "Python 3"
    },
    "language_info": {
      "name": "python"
    },
    "accelerator": "GPU"
  },
  "cells": [
    {
      "cell_type": "markdown",
      "metadata": {
        "id": "view-in-github",
        "colab_type": "text"
      },
      "source": [
        "<a href=\"https://colab.research.google.com/github/pedropalaciosjr/mnist_kneighborsclassifier/blob/main/mnist_kneighborsclassifier.ipynb\" target=\"_parent\"><img src=\"https://colab.research.google.com/assets/colab-badge.svg\" alt=\"Open In Colab\"/></a>"
      ]
    },
    {
      "cell_type": "code",
      "execution_count": 11,
      "metadata": {
        "colab": {
          "base_uri": "https://localhost:8080/"
        },
        "id": "C1NTQ3I5-S9H",
        "outputId": "48aefbcc-9a09-4771-f922-870285ae7b62"
      },
      "outputs": [
        {
          "output_type": "stream",
          "name": "stdout",
          "text": [
            "Requirement already satisfied: scikit-learn in /usr/local/lib/python3.11/dist-packages (1.6.1)\n",
            "Requirement already satisfied: numpy>=1.19.5 in /usr/local/lib/python3.11/dist-packages (from scikit-learn) (2.0.2)\n",
            "Requirement already satisfied: scipy>=1.6.0 in /usr/local/lib/python3.11/dist-packages (from scikit-learn) (1.14.1)\n",
            "Requirement already satisfied: joblib>=1.2.0 in /usr/local/lib/python3.11/dist-packages (from scikit-learn) (1.4.2)\n",
            "Requirement already satisfied: threadpoolctl>=3.1.0 in /usr/local/lib/python3.11/dist-packages (from scikit-learn) (3.6.0)\n"
          ]
        }
      ],
      "source": [
        "!pip install scikit-learn\n",
        "from sklearn.datasets import fetch_openml\n",
        "from sklearn.neighbors import KNeighborsClassifier\n",
        "from sklearn.model_selection import train_test_split\n",
        "from sklearn.model_selection import cross_val_score, cross_val_predict\n",
        "from sklearn.model_selection import GridSearchCV\n",
        "from sklearn.metrics import ConfusionMatrixDisplay\n",
        "\n",
        "import numpy as np\n",
        "import matplotlib.pyplot as plt"
      ]
    },
    {
      "cell_type": "code",
      "source": [
        "# Fetch MNIST dataset from sklearn dataset\n",
        "mnist_dataset = fetch_openml('mnist_784', as_frame=False)"
      ],
      "metadata": {
        "id": "eha4UtoLWjLn"
      },
      "execution_count": 2,
      "outputs": []
    },
    {
      "cell_type": "code",
      "source": [
        "knn_clf = KNeighborsClassifier()\n",
        "\n",
        "X, y = mnist_dataset.data, mnist_dataset.target\n",
        "\n",
        "X_train, X_test, y_train, y_test = X[:60000], X[60000:], y[:60000], y[60000:]\n",
        "knn_clf.fit(X_train, y_train)\n",
        "\n",
        "param_grid = [{\n",
        "    \"weights\": [\"uniform\", \"distance\"],\n",
        "    \"n_neighbors\": [3, 4, 5, 6, 15, 18, 30]\n",
        "}]\n",
        "# Exhaustively searches through param_grid for hyperparameters\n",
        "knn_clf_grid_srch = GridSearchCV(knn_clf, param_grid, cv=3)\n",
        "\n",
        "training_data_sizes = [9000, 12000, 14000, 16000]\n",
        "# for size in training_data_sizes:\n",
        "#   knn_clf_grid_srch.fit(X_train[:size], y_train[:size])\n",
        "#   knn_best_estimator = knn_clf_grid_srch.best_estimator_\n",
        "#   print(f\"Training accuracy of size {size}: {knn_best_estimator.score(X_test, y_test)}\")\n",
        "\n",
        "knn_clf_grid_srch.fit(X_train[:9000], y_train[:9000])\n",
        "knn_best_estimator = knn_clf_grid_srch.best_estimator_\n",
        "knn_best_estimator.fit(X_train, y_train)\n",
        "print(f\"Accuracy: {knn_best_estimator.score(X_test, y_test)}\")\n",
        "\n",
        "# knn_best_estimator = knn_clf_grid_srch.best_estimator_\n",
        "# # knn_clf_grid_srch.predict([X[9]])\n",
        "\n",
        "# knn_best_estimator.score(X_test, y_test)\n",
        "\n"
      ],
      "metadata": {
        "colab": {
          "base_uri": "https://localhost:8080/"
        },
        "id": "VPItrEGPW1Ps",
        "outputId": "5a83e2ae-6dc0-4654-95b8-927bda70dde6"
      },
      "execution_count": 9,
      "outputs": [
        {
          "output_type": "stream",
          "name": "stdout",
          "text": [
            "Accuracy: 0.9714\n"
          ]
        }
      ]
    },
    {
      "cell_type": "code",
      "source": [
        "# Evaluation Metrics\n",
        "cross_val_score(knn_best_estimator, X_train, y_train, cv=3, scoring=\"accuracy\") # Cross-Validation Score for cv = 3\n",
        "y_train_pred = cross_val_predict(knn_best_estimator)"
      ],
      "metadata": {
        "id": "BQzthUBdYSUK",
        "colab": {
          "base_uri": "https://localhost:8080/",
          "height": 180
        },
        "outputId": "9810d4c5-4454-4e9b-cddc-996d2258e080"
      },
      "execution_count": 12,
      "outputs": [
        {
          "output_type": "error",
          "ename": "TypeError",
          "evalue": "ConfusionMatrixDisplay.__init__() missing 1 required positional argument: 'confusion_matrix'",
          "traceback": [
            "\u001b[0;31m---------------------------------------------------------------------------\u001b[0m",
            "\u001b[0;31mTypeError\u001b[0m                                 Traceback (most recent call last)",
            "\u001b[0;32m<ipython-input-12-06a408b7a24b>\u001b[0m in \u001b[0;36m<cell line: 0>\u001b[0;34m()\u001b[0m\n\u001b[1;32m      1\u001b[0m \u001b[0;31m# Evaluation Metrics\u001b[0m\u001b[0;34m\u001b[0m\u001b[0;34m\u001b[0m\u001b[0m\n\u001b[1;32m      2\u001b[0m \u001b[0mcross_val_score\u001b[0m\u001b[0;34m(\u001b[0m\u001b[0mknn_best_estimator\u001b[0m\u001b[0;34m,\u001b[0m \u001b[0mX_train\u001b[0m\u001b[0;34m,\u001b[0m \u001b[0my_train\u001b[0m\u001b[0;34m,\u001b[0m \u001b[0mcv\u001b[0m\u001b[0;34m=\u001b[0m\u001b[0;36m3\u001b[0m\u001b[0;34m,\u001b[0m \u001b[0mscoring\u001b[0m\u001b[0;34m=\u001b[0m\u001b[0;34m\"accuracy\"\u001b[0m\u001b[0;34m)\u001b[0m\u001b[0;34m\u001b[0m\u001b[0;34m\u001b[0m\u001b[0m\n\u001b[0;32m----> 3\u001b[0;31m \u001b[0mmatrix_display\u001b[0m \u001b[0;34m=\u001b[0m \u001b[0mConfusionMatrixDisplay\u001b[0m\u001b[0;34m(\u001b[0m\u001b[0;34m)\u001b[0m\u001b[0;34m\u001b[0m\u001b[0;34m\u001b[0m\u001b[0m\n\u001b[0m",
            "\u001b[0;31mTypeError\u001b[0m: ConfusionMatrixDisplay.__init__() missing 1 required positional argument: 'confusion_matrix'"
          ]
        }
      ]
    }
  ]
}